{
 "cells": [
  {
   "cell_type": "markdown",
   "metadata": {},
   "source": [
    "# Data Science project template"
   ]
  },
  {
   "cell_type": "markdown",
   "metadata": {},
   "source": [
    "### Basic imports, the rest will be imported on the way"
   ]
  },
  {
   "cell_type": "code",
   "execution_count": 3,
   "metadata": {},
   "outputs": [],
   "source": [
    "import numpy as np\n",
    "import pandas as pd\n",
    "import matplotlib.pyplot as plt\n",
    "import seaborn as sns\n",
    "import sklearn as skl\n",
    "\n",
    "%matplotlib inline"
   ]
  },
  {
   "cell_type": "markdown",
   "metadata": {},
   "source": [
    "### Couple of questions to bare in mind\n",
    "***\n",
    "1. What is the project objective?\n",
    "2. How the solution will be used?\n",
    "3. supervised/unsupervised?\n",
    "4. How can me measure the performance of the solution?\n",
    "5. What is the minimum performance needed to accteptance?\n",
    "6. How can you solve problem manually?\n",
    "7. Are there any assumptions or clues known before?"
   ]
  },
  {
   "cell_type": "markdown",
   "metadata": {},
   "source": [
    "## Get the data"
   ]
  },
  {
   "cell_type": "markdown",
   "metadata": {},
   "source": [
    "### Check list\n",
    "***\n",
    "1. List the data you need and how much\n",
    "2. Find data source\n",
    "3. How much space it will take?\n",
    "4. Check the legal oblicgations(get authorization if necessary and possible)\n",
    "5. Convert data to format you can easly manipulate\n",
    "6. Ensure the sensitive data is deleted\n",
    "7. Sample test set and put it aside <-- if applicable"
   ]
  },
  {
   "cell_type": "code",
   "execution_count": 82,
   "metadata": {},
   "outputs": [],
   "source": [
    "# from sklearn.model_selection import train_test_split\n",
    "\n",
    "# #Lets assume for now that data is in csv file\n",
    "\n",
    "# data_file = 'test_data/train.csv'\n",
    "# # train_file = ''\n",
    "# # test_file = ''\n",
    "\n",
    "# data = pd.read_csv(data_file)\n",
    "# # train = pd.read_csv(train_file)\n",
    "# # test = pd.read_csv(test_file)\n",
    "\n",
    "# # You don't need train test split if you are going to use cross validation while training a model\n",
    "# # train, test = train_test_split(data, train_size=0.8, test_size=0.2, random_state=0)"
   ]
  },
  {
   "cell_type": "markdown",
   "metadata": {},
   "source": [
    "## Data exploration\n"
   ]
  },
  {
   "cell_type": "markdown",
   "metadata": {},
   "source": [
    "Check list\n",
    "***\n",
    "\n",
    "1. Study each attribute and its characteristics:Name, Type, % of missing values, Noisiness and type of noise (stochastic, outliers, rounding errors, etc.), Usefulness for the task, Type of distribution (Gaussian, uniform, logarithmic, etc.)\n",
    "\n",
    "2. For supervised learning tasks, identify the target attribute(s).\n",
    "\n",
    "3. Visualize the data.\n",
    "\n",
    "4. Study the correlations between attributes.\n",
    "\n",
    "5. Identify the promising transformations you may want to apply.\n",
    "\n",
    "6. Identify extra data that would be useful (go back to “Get the Data”).\n",
    "\n",
    "7. Document what you have learned."
   ]
  },
  {
   "cell_type": "code",
   "execution_count": 16,
   "metadata": {},
   "outputs": [],
   "source": [
    "# data.info()"
   ]
  },
  {
   "cell_type": "code",
   "execution_count": 15,
   "metadata": {},
   "outputs": [],
   "source": [
    "# data.head()"
   ]
  },
  {
   "cell_type": "code",
   "execution_count": 36,
   "metadata": {},
   "outputs": [],
   "source": [
    "# target_column = 'name_of_target'\n",
    "\n",
    "# categorical_cols = data.loc[:,data.dtypes == \"object\"].columns\n",
    "# numerical_cols = data.loc[:,data.dtypes != \"object\"].columns"
   ]
  },
  {
   "cell_type": "code",
   "execution_count": 14,
   "metadata": {},
   "outputs": [],
   "source": [
    "# axes = []\n",
    "# cols = categorical_cols\n",
    "# num_of_cols = len(cols)\n",
    "# fig = plt.figure(figsize=(12, 12 * num_of_cols))\n",
    "\n",
    "# for i in range(num_of_cols):    \n",
    "#     plot = data[cols[i]].value_counts()\n",
    "    \n",
    "#     if len(plot) > 10:\n",
    "#         continue\n",
    "    \n",
    "    \n",
    "#     ax = fig.add_subplot(num_of_cols, 1, i + 1)\n",
    "#     axes.append(ax)\n",
    "    \n",
    "#     plot.plot(kind='bar', ax=ax, label=cols[i])\n",
    "#     ax.legend()"
   ]
  },
  {
   "cell_type": "code",
   "execution_count": 11,
   "metadata": {},
   "outputs": [],
   "source": [
    "# _= sns.pairplot(data, hue=target_column, height=2.5)"
   ]
  },
  {
   "cell_type": "markdown",
   "metadata": {},
   "source": [
    "### Here is a place for your custom visualizations"
   ]
  },
  {
   "cell_type": "code",
   "execution_count": 13,
   "metadata": {},
   "outputs": [],
   "source": [
    "# categorical_cols"
   ]
  },
  {
   "cell_type": "code",
   "execution_count": null,
   "metadata": {},
   "outputs": [],
   "source": [
    "# sns.catplot(data=data, kind=\"swarm\", x=\"\", y=\"\", hue=target_column)"
   ]
  },
  {
   "cell_type": "markdown",
   "metadata": {},
   "source": [
    "### Let's see what are a various corellations between variables"
   ]
  },
  {
   "cell_type": "code",
   "execution_count": 12,
   "metadata": {},
   "outputs": [],
   "source": [
    "# ax = plt.figure(figsize=(12, 12)).add_subplot(1, 1, 1)\n",
    "# sns.heatmap(data.corr(), annot=True,ax=ax)"
   ]
  },
  {
   "cell_type": "markdown",
   "metadata": {},
   "source": [
    "## Prepare the Data"
   ]
  },
  {
   "cell_type": "markdown",
   "metadata": {},
   "source": [
    "### Check list\n",
    "***\n",
    "1. Data cleaning:\n",
    "    * Fix or remove outliers (optional)\n",
    "    * Fill in missing values (e.g., with zero, mean, median…) or drop their rows (or columns).\n",
    "    * Feature selection (optional):\n",
    "\t* Drop the attributes that provide no useful information for the task.\n",
    "2. Feature engineering, where appropriate:\n",
    "    * Discretize continuous features.\n",
    "\t* Decompose features (e.g., categorical, date/time, etc.).\n",
    "\t* Add promising transformations of features (e.g., log(x), sqrt(x), x2, etc.).\n",
    "\t* Aggregate features into promising new features.\n",
    "3. Feature scaling:\n",
    "    * Standardize or normalize features."
   ]
  },
  {
   "cell_type": "code",
   "execution_count": 1,
   "metadata": {},
   "outputs": [],
   "source": [
    "# # Let's see on null values once again\n",
    "#data.info()"
   ]
  },
  {
   "cell_type": "code",
   "execution_count": 38,
   "metadata": {},
   "outputs": [],
   "source": [
    "# y = data[target_column]\n",
    "\n",
    "# data.drop(target_column, axis=1, inplace=True)\n",
    "\n",
    "# # you can get rid of columns which will be useless for sure in predictions such us id etc.\n",
    "# cols_to_drop=[]\n",
    "# data.drop(cols_to_drop, axis=1, inplace=True)\n",
    "\n",
    "# categorical_cols = data.loc[:,data.dtypes == \"object\"].columns\n",
    "# numerical_cols = data.loc[:,data.dtypes != \"object\"].columns"
   ]
  },
  {
   "cell_type": "markdown",
   "metadata": {},
   "source": [
    "### Place to add your custom tranformations"
   ]
  },
  {
   "cell_type": "code",
   "execution_count": 10,
   "metadata": {},
   "outputs": [],
   "source": [
    "# from sklearn.base import BaseEstimator, TransformerMixin\n",
    "\n",
    "# # you can also place all helper funtions and classes in seperate file\n",
    "# # and import as a usual package located in the cwd or form other notebook file like this \n",
    "# # from ipynb.fs.full.name_of_file import name_of_funtion\n",
    "\n",
    "# class CustomTransformation(BaseEstimator, TransformerMixin):\n",
    "#     def __init__(self, add_bedrooms_per_room=True): # no *args or **kargs\n",
    "#         pass\n",
    "    \n",
    "#     def fit(self, X, y=None):\n",
    "#         pass\n",
    "    \n",
    "#     def transform(self, X):\n",
    "#         pass"
   ]
  },
  {
   "cell_type": "code",
   "execution_count": 39,
   "metadata": {},
   "outputs": [],
   "source": [
    "# from sklearn.preprocessing import StandardScaler, MinMaxScaler, OneHotEncoder\n",
    "# from sklearn.impute import SimpleImputer\n",
    "# from sklearn.pipeline import Pipeline\n",
    "# from sklearn.compose import ColumnTransformer\n",
    "\n",
    "# num_pipeline = Pipeline([\n",
    "#         ('imputer', SimpleImputer(strategy='mean')),\n",
    "#         ('std_scaler', StandardScaler())\n",
    "#     ])\n",
    "\n",
    "# cat_pipeline = Pipeline([\n",
    "#         ('imputer', SimpleImputer(strategy='most_frequent')),#, fill_value='None')),\n",
    "#         ('one_hot', OneHotEncoder(handle_unknown='ignore'))\n",
    "#     ])\n",
    "\n",
    "# full_pipeline = ColumnTransformer([\n",
    "#         ('num', num_pipeline, numerical_cols),\n",
    "#         ('cat', cat_pipeline, categorical_cols)\n",
    "#     ])\n",
    "    \n",
    "\n",
    "# data = full_pipeline.fit_transform(data, y)"
   ]
  },
  {
   "cell_type": "markdown",
   "metadata": {},
   "source": [
    "### Shortlist Promising Models\n",
    "\n",
    "#### If the data is huge, you may want to sample smaller training sets so you can train many different models in a reasonable time (be aware that this penalizes complex models such as large neural nets or Random Forests).\n"
   ]
  },
  {
   "cell_type": "markdown",
   "metadata": {},
   "source": [
    "### Check list\n",
    "\t\n",
    "1. Once again, try to automate these steps as much as possible.\n",
    "\n",
    "2. Train many quick-and-dirty models from different categories (e.g., linear, naive Bayes, SVM, Random Forest, neural net, etc.) using standard parameters.\n",
    "\n",
    "3. Measure and compare their performance.\n",
    "    * For each model, use N-fold cross-validation and compute the mean and standard deviation of the performance measure on the N folds.\n",
    "\n",
    "4. Analyze the most significant variables for each algorithm.\n",
    "\t\n",
    "5. Analyze the types of errors the models make.\n",
    "    * What data would a human have used to avoid these errors?\n",
    "\n",
    "6. Perform a quick round of feature selection and engineering.\n",
    "\n",
    "7. Perform one or two more quick iterations of the five previous steps.\n",
    "\n",
    "#### Shortlist the top three to five most promising models, preferring models that make different types of errors.(Crete tool to show falsy predictions)\n"
   ]
  },
  {
   "cell_type": "markdown",
   "metadata": {},
   "source": [
    "### If you do not know what model to choose, you can use map from sklear documentation"
   ]
  },
  {
   "cell_type": "markdown",
   "metadata": {},
   "source": [
    "<img src=\"ml_map.png\" alt=\"ml map\"/>"
   ]
  },
  {
   "cell_type": "markdown",
   "metadata": {},
   "source": [
    "### Keep in mind that it does not contain boost models which usually perform the best\n",
    "#### You can see some of them here\n",
    "    * XGBoost\n",
    "    * LightGBM\n",
    "    * CatBoost\n",
    "    * GBM\n",
    "    "
   ]
  },
  {
   "cell_type": "code",
   "execution_count": 6,
   "metadata": {},
   "outputs": [],
   "source": [
    "# Let's import useful models\n",
    "from sklearn.ensemble import AdaBoostClassifier, RandomForestClassifier\n",
    "from sklearn.linear_model import LogisticRegressionCV\n",
    "from sklearn.neighbors import KNeighborsClassifier\n",
    "from sklearn.svm import LinearSVC, SVC\n",
    "from xgboost.sklearn import XGBClassifier\n",
    "from lightgbm.sklearn import LGBMClassifier\n",
    "\n",
    "from scipy.stats import uniform\n",
    "from sklearn.model_selection import RandomizedSearchCV\n",
    "from sklearn.model_selection import cross_validate\n",
    "\n",
    "from random import randint"
   ]
  },
  {
   "cell_type": "code",
   "execution_count": 22,
   "metadata": {},
   "outputs": [],
   "source": [
    "# Place to import your model evaluation metric"
   ]
  },
  {
   "cell_type": "code",
   "execution_count": 4,
   "metadata": {},
   "outputs": [],
   "source": [
    "# example of basic model training with evaluation\n",
    "# parameters = {\n",
    "#     \"n_estimators\": list(range(20, 200)),\n",
    "#     \"learning_rate\": uniform(0.001, 0.199),\n",
    "#     \"num_leaves\": list(range(2, 100)),\n",
    "#     \"bagging_freq\": list(range(1, 5)),\n",
    "#     \"max_bin\": list(range(1, 200)),\n",
    "#     \"lambda_l1\": uniform(0.001, 0.199),\n",
    "#     \"lambda_l2\": uniform(0.001, 0.199),\n",
    "#     } \n",
    "\n",
    "# model = LGBMClassifier(extra_trees=True)\n",
    "# randomsearch = RandomizedSearchCV(model,\n",
    "#                                   param_distributions=parameters,\n",
    "#                                   n_iter=500,\n",
    "#                                   cv=4,\n",
    "#                                   random_state=1,\n",
    "#                                   scoring=scoring,\n",
    "#                                   return_train_score=True,\n",
    "#                                   refit='Accuracy',\n",
    "#                                   )\n",
    "\n",
    "# r = randomsearch.fit(data,y)\n",
    "# max(r.cv_results_['mean_test_AUC'])"
   ]
  },
  {
   "cell_type": "code",
   "execution_count": 3,
   "metadata": {},
   "outputs": [],
   "source": [
    "# scores = r.cv_results_\n",
    "# lgbm_best = r.best_estimator_"
   ]
  },
  {
   "cell_type": "code",
   "execution_count": 2,
   "metadata": {},
   "outputs": [],
   "source": [
    "# # print all models tried with the parameters used and gained performace\n",
    "# for mean_score, params in sorted(list(zip(scores[\"mean_test_AUC\"], scores[\"params\"])),key = lambda x: x[0]):\n",
    "#     print(mean_score, params)\n"
   ]
  },
  {
   "cell_type": "markdown",
   "metadata": {},
   "source": [
    "## Fine-Tune the System\n",
    "***\n",
    "### You will want to use as much data as possible for this step, especially as you move toward the end of fine-tuning.As always, automate what you can.\n",
    "\n",
    "1 Fine-tune the hyperparameters using cross-validation\n",
    "\n",
    "2. Treat your data transformation choices as hyperparameters, especially when you are not sure about them (e.g., if you’re not sure whether to replace missing values with zeros or with the median value, or to just drop the rows).\n",
    "\n",
    "3. Unless there are very few hyperparameter values to explore, prefer random search over grid search. If training is very long, you may prefer a Bayesian optimization approach (e.g., using Gaussian process priors, as described by Jasper Snoek et al.).\n",
    "\n",
    "4. Try Ensemble methods. Combining your best models will often produce better performance than running them individually.\n",
    "\n",
    "5. Once you are confident about your final model, measure its performance on the test set to estimate the generalization error.\n"
   ]
  },
  {
   "cell_type": "code",
   "execution_count": 7,
   "metadata": {},
   "outputs": [],
   "source": [
    "# Place to tune your best model/models\n"
   ]
  },
  {
   "cell_type": "code",
   "execution_count": 80,
   "metadata": {},
   "outputs": [],
   "source": [
    "# final_model = lgbm_best\n",
    "# test_file = \"\"\n",
    "# test = pd.read_csv(test_file)\n",
    "\n",
    "# # do the necessary processing here which has not been done in the pipeline yet\n",
    "\n",
    "# test.drop(cols_to_drop, axis=1, inplace=True)\n",
    "\n",
    "# test = full_pipeline.transform(test)\n",
    "\n",
    "# res = final_model.predict(test)\n",
    "\n",
    "# df = pd.DataFrame(res)\n",
    "# df.to_csv(\"result.csv\", index=False)"
   ]
  },
  {
   "cell_type": "code",
   "execution_count": null,
   "metadata": {},
   "outputs": [],
   "source": []
  }
 ],
 "metadata": {
  "kernelspec": {
   "display_name": "Python 3",
   "language": "python",
   "name": "python3"
  },
  "language_info": {
   "codemirror_mode": {
    "name": "ipython",
    "version": 3
   },
   "file_extension": ".py",
   "mimetype": "text/x-python",
   "name": "python",
   "nbconvert_exporter": "python",
   "pygments_lexer": "ipython3",
   "version": "3.7.3"
  }
 },
 "nbformat": 4,
 "nbformat_minor": 2
}
